{
  "cells": [
    {
      "cell_type": "markdown",
      "metadata": {
        "id": "3nk5r21AO9po"
      },
      "source": [
        "# Titanic - Titanic prediction\n",
        "Dans ce notebook, on établit une prédiction sur les survivants du titanic. L'objectif principal de ce projet serait de développer un modèle de prédiction capable de classer les passagers du Titanic en deux catégories : survivants et non-survivants.\n",
        "\n",
        "Le jeu de données est trouvé sur [Kaggle](https://www.kaggle.com/datasets/vinicius150987/titanic3?select=titanic3.xls) et se trouve dans le répertoire `data` du projet.\n",
        "\n",
        "\n",
        "\n",
        "Le but de ce projet est de nous initier à la bonne construction d'un projet de data science à travers du code structuré et packagé.\n",
        "\n",
        "\n",
        "Dans ce notebook, on aborde les étapes suivantes :\n",
        "* [Importation des librairies](#part0)\n",
        "* [Chargement et nettoyage des données](#part1)\n",
        "* [Analyse exploratoire de données](#part2)\n",
        "* [Feature engineering](#part3)\n",
        "* [Modélisation](#part4)\n",
        "* [Visualisation et précision du modèle](#part5)"
      ]
    },
    {
      "cell_type": "markdown",
      "metadata": {
        "id": "Qnl5zIVyO9pt"
      },
      "source": [
        "## Importation des librairies <a id='part0'></a>\n"
      ]
    },
    {
      "cell_type": "code",
      "execution_count": null,
      "metadata": {
        "id": "6lJWijkpO9pu"
      },
      "outputs": [],
      "source": [
        "import sys\n",
        "import os\n",
        "import pandas as pd\n",
        "import numpy as np"
      ]
    },
    {
      "cell_type": "markdown",
      "metadata": {
        "id": "1wJefD_GO9pw"
      },
      "source": [
        "## Chargement et nettoyage des données <a id='part1'></a>\n",
        "\n",
        "\n",
        "Le pré-traitement qui suit se déroule en 3 étapes :\n",
        "* `cleaning` : nettoie la base de données (colonnes et lignes)\n",
        "* `quali_stat_des` : effectue des statistiques descriptives sur les variables qualitatives\n",
        "* `quanti_stat_des` : effectue des statistiques descriptives sur les variables quantitatives"
      ]
    },
    {
      "cell_type": "markdown",
      "metadata": {
        "id": "AwHuO462O9pw"
      },
      "source": [
        "## Analyse exploratoire de données <a id='part2'></a>\n",
        "\n",
        "Cette partie va nous permettre de connaitre en profondeur, les variables auxquelles nous nous intéressons pour cette étude."
      ]
    },
    {
      "cell_type": "markdown",
      "metadata": {
        "id": "0WU5wXqTO9px"
      },
      "source": [
        "## Analyse univariée\n",
        "\n",
        "Dans cette partie, on se charge d'analyser chaque variable afin d'avoir une tendance de celles-ci. Dans cette étape, nous effectuons principalement de la datavisualsation pour décrire de manière simple les données et d'avoir un aperçu de leur distribution.\n",
        "\n",
        "Ainsi, on effectue notre analyse univariée en 2 étapes :\n",
        "*   `quali_stat_des` : se charge d'afficher les graphiques sur les variables qualitatives.\n",
        "*   `quanti_stat_des` : se charge d'afficher les graphiques sur les variables quantitatives.\n"
      ]
    },
    {
      "cell_type": "markdown",
      "metadata": {
        "id": "574fwzmtO9px"
      },
      "source": [
        "## Analyse multivariée\n",
        "\n",
        "Dans cette partie, on se charge d'analyser les variables entre elles. Cette étape va nous permettre d'étudier les relations qu'il peut y avoir entre celles-ci. Nous utilisons principalement ici des tests statistiques pour nous permettre de quantifier la relation entre les 2 variables.\n",
        "*   `bivarial_study` : se charge de réaliser une matrice de corrélation.\n"
      ]
    },
    {
      "cell_type": "markdown",
      "metadata": {
        "id": "yMOj-fScO9px"
      },
      "source": [
        "# Feature engineering <a id='part3'></a>\n",
        "\n",
        "Cette partie va nous permettre de nous concentrer sur le feature engineering.\n",
        "Cette étape va se dérouler en 4 parties :\n",
        "\n",
        "* `feature_selection` : sélection de caractéristiques\n",
        "* `transform_homedest` : extraction de caractéristiques\n",
        "* `encode_features` : regroupements de caractéristiques\n",
        "* `getDummies` : codage de caractéristiques\n",
        "\n"
      ]
    },
    {
      "cell_type": "markdown",
      "source": [
        "## Séparation variable/cible\n",
        "\n",
        "Dans le processus de machine learning et de prédiction, on sépare les données en 2 : les variables que l'on a choisi et qui sont déterminantes pour prédire la cible et la variable cible que l'on souhaite prédire isolée des autres variables afin de ne pas être influencée par les autres variables.\n",
        "\n",
        "On rappelle que la variable cherchée à être prédite est `survived` qui va prédire si un individu au vu des ses caractéristiques (`age`,`sex`,`fare`,`passengerClass`)  a plus ou moins de chances de survivre au naufrage du Titanic."
      ],
      "metadata": {
        "id": "ryvXRY2sWY2m"
      }
    },
    {
      "cell_type": "markdown",
      "source": [
        "# Modélisation<a id='part4'></a>\n",
        "Dans cette partie, on utilise les fonctions :\n",
        "`prediction` et `odds_ratio_prediction` qui vont nous permettre de faire le modèle de régression logistique, d'obtenir les coefficients et d'estimer les coefficients d'une manière plus intelligible avec des rapports de côte."
      ],
      "metadata": {
        "id": "CkhQ5PG-9FFj"
      }
    },
    {
      "cell_type": "markdown",
      "source": [
        "# Visualisation et précision du modèle <a id='part5'></a>"
      ],
      "metadata": {
        "id": "jSK97o5LBxGk"
      }
    },
    {
      "cell_type": "markdown",
      "source": [
        "Dans cette partie, nous nous interessons à la précision de notre modèle.\n",
        "Nous évaluons la qualité de notre modèle à l'aide d'une matrice de confusion avec les appels aux fonction situées daans `model`et de la courbe ROC avec la fonction `roc`.\n"
      ],
      "metadata": {
        "id": "3kdCBxlBCMFG"
      }
    }
  ],
  "metadata": {
    "kernelspec": {
      "display_name": "Python 3",
      "language": "python",
      "name": "python3"
    },
    "language_info": {
      "name": "python",
      "version": "3.11.7"
    },
    "colab": {
      "provenance": []
    }
  },
  "nbformat": 4,
  "nbformat_minor": 0
}