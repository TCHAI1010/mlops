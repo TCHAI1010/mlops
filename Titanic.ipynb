{
 "cells": [
  {
   "cell_type": "markdown",
   "metadata": {},
   "source": [
    "# Titanic - Titanic prediction\n",
    "Dans ce notebook, ...\n",
    "\n",
    "Le jeu de données est trouvé sur [Kaggle](https://www.kaggle.com/datasets/vinicius150987/titanic3?select=titanic3.xls) et se trouve dans le répertoire `data` du projet.\n",
    "\n",
    "\n",
    "\n",
    "Le but de ce projet est de \n",
    "\n",
    "\n",
    "Dans ce notebook, on aborde les étapes suivantes :\n",
    "* [Importation des librairies](#part0)\n",
    "* [Chargement et nettoyage des données](#part1)\n",
    "* [Analyse exploratoire de données](#part2)\n",
    "* [Feature engineering](#part3)\n",
    "* [Feature engineering sur le jeu de prédiction (online)](#part4)\n",
    "* [Prévision et visualisation](#part5)\n",
    "* [Incertitudes de modélisation](#part6)\n"
   ]
  },
  {
   "cell_type": "markdown",
   "metadata": {},
   "source": [
    "## Importation des librairies <a id='part0'></a>\n"
   ]
  },
  {
   "cell_type": "code",
   "execution_count": null,
   "metadata": {},
   "outputs": [],
   "source": [
    "import sys\n",
    "import os \n",
    "import pandas as pd\n",
    "import numpy as np\n"
   ]
  },
  {
   "cell_type": "markdown",
   "metadata": {},
   "source": [
    "## Chargement et nettoyage des données <a id='part1'></a>\n",
    "\n",
    "### Fonctions élémentaires\n",
    "\n",
    "Le pré-traitement qui suit se déroule en ?? étapes :\n",
    "* `fonction1` : explication"
   ]
  },
  {
   "cell_type": "markdown",
   "metadata": {},
   "source": [
    "## Analyse exploratoire de données <a id='part2'></a>"
   ]
  },
  {
   "cell_type": "markdown",
   "metadata": {},
   "source": [
    "## Analyse univariée"
   ]
  },
  {
   "cell_type": "markdown",
   "metadata": {},
   "source": [
    "## Analyse multivariée"
   ]
  },
  {
   "cell_type": "markdown",
   "metadata": {},
   "source": [
    "## Feature engineering <a id='part3'></a>"
   ]
  },
  {
   "cell_type": "markdown",
   "metadata": {},
   "source": []
  }
 ],
 "metadata": {
  "kernelspec": {
   "display_name": "Python 3",
   "language": "python",
   "name": "python3"
  },
  "language_info": {
   "name": "python",
   "version": "3.11.7"
  }
 },
 "nbformat": 4,
 "nbformat_minor": 2
}
